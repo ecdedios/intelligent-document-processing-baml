{
 "cells": [
  {
   "cell_type": "markdown",
   "id": "69e09a9e-30ed-4aeb-aa2a-f192050d92ad",
   "metadata": {},
   "source": [
    "# Intelligent Document Processing with BAML"
   ]
  },
  {
   "cell_type": "code",
   "execution_count": 2,
   "id": "cac94acd-9c11-4630-a7ef-772652813cfc",
   "metadata": {},
   "outputs": [],
   "source": [
    "%load_ext autoreload\n",
    "%autoreload 2"
   ]
  },
  {
   "cell_type": "code",
   "execution_count": 3,
   "id": "640eff2c-f021-4d4d-af60-99d15bf1d506",
   "metadata": {},
   "outputs": [],
   "source": [
    "from baml_py import Image\n",
    "from baml_client import b\n",
    "import pandas as pd"
   ]
  },
  {
   "cell_type": "markdown",
   "id": "1dcdd286-74ca-425f-a857-fdf14b741df7",
   "metadata": {},
   "source": [
    "## Appointment Card"
   ]
  },
  {
   "cell_type": "code",
   "execution_count": 3,
   "id": "208d4062-8c0b-429b-aa78-12222d3a71f7",
   "metadata": {},
   "outputs": [],
   "source": [
    "def extract_appointment_from_url(url: str):\n",
    "    \"\"\"\n",
    "    Extracts an image of a receipt stored at a URL.\n",
    "\n",
    "    Args:\n",
    "        url (str): The URL of the receipt image.\n",
    "\n",
    "    Returns:\n",
    "        dict: The receipt data. See the baml_src/idp.baml file for the structure of the appointment data.\n",
    "\n",
    "    Raises:\n",
    "        BamlValidationError: If the llm read of the image could not be parsed into the expected data model.\n",
    "    \"\"\"\n",
    "    img = Image.from_url(url)\n",
    "    output = b.ExtractAppointmentFromImage(img)\n",
    "    return output"
   ]
  },
  {
   "cell_type": "code",
   "execution_count": 4,
   "id": "9acd3632-3ad5-4f09-9a29-e52b85e00add",
   "metadata": {},
   "outputs": [
    {
     "name": "stdout",
     "output_type": "stream",
     "text": [
      "<class 'baml_client.types.Appointment'>\n"
     ]
    },
    {
     "data": {
      "text/plain": [
       "Appointment(day_of_week='Thursday', month='Jan', date=23, year=2025, hour=8, minute=15, ampm='am')"
      ]
     },
     "execution_count": 4,
     "metadata": {},
     "output_type": "execute_result"
    }
   ],
   "source": [
    "url = \"https://idp-baml-tutorial.s3.us-east-1.amazonaws.com/appointment.jpg\"\n",
    "appointment = extract_appointment_from_url(url)\n",
    "print(type(appointment))\n",
    "appointment"
   ]
  },
  {
   "cell_type": "code",
   "execution_count": 5,
   "id": "55609259-2c4f-4c8c-a2df-17662256fd78",
   "metadata": {
    "scrolled": true
   },
   "outputs": [
    {
     "data": {
      "text/html": [
       "<div>\n",
       "<style scoped>\n",
       "    .dataframe tbody tr th:only-of-type {\n",
       "        vertical-align: middle;\n",
       "    }\n",
       "\n",
       "    .dataframe tbody tr th {\n",
       "        vertical-align: top;\n",
       "    }\n",
       "\n",
       "    .dataframe thead th {\n",
       "        text-align: right;\n",
       "    }\n",
       "</style>\n",
       "<table border=\"1\" class=\"dataframe\">\n",
       "  <thead>\n",
       "    <tr style=\"text-align: right;\">\n",
       "      <th></th>\n",
       "      <th>day_of_week</th>\n",
       "      <th>month</th>\n",
       "      <th>date</th>\n",
       "      <th>year</th>\n",
       "      <th>hour</th>\n",
       "      <th>minute</th>\n",
       "      <th>ampm</th>\n",
       "    </tr>\n",
       "  </thead>\n",
       "  <tbody>\n",
       "    <tr>\n",
       "      <th>0</th>\n",
       "      <td>Thursday</td>\n",
       "      <td>Jan</td>\n",
       "      <td>23</td>\n",
       "      <td>2025</td>\n",
       "      <td>8</td>\n",
       "      <td>15</td>\n",
       "      <td>am</td>\n",
       "    </tr>\n",
       "  </tbody>\n",
       "</table>\n",
       "</div>"
      ],
      "text/plain": [
       "  day_of_week month  date  year  hour  minute ampm\n",
       "0    Thursday   Jan    23  2025     8      15   am"
      ]
     },
     "execution_count": 5,
     "metadata": {},
     "output_type": "execute_result"
    }
   ],
   "source": [
    "# Convert object to a dictionary\n",
    "appointment_dict = appointment.__dict__\n",
    "\n",
    "# Create a DataFrame\n",
    "appointment_df = pd.DataFrame([appointment_dict])\n",
    "appointment_df"
   ]
  },
  {
   "cell_type": "markdown",
   "id": "2e2c3eef-ff5c-4f31-b093-4ac515b0269e",
   "metadata": {},
   "source": [
    "## Nutritional Value Label"
   ]
  },
  {
   "cell_type": "code",
   "execution_count": 4,
   "id": "0196e14f-4664-4c97-85a8-a7495b8dcbb8",
   "metadata": {},
   "outputs": [],
   "source": [
    "def extract_nutrition_from_url(url: str):\n",
    "    \"\"\"\n",
    "    Extracts an image of a nutritional value label stored at a URL.\n",
    "\n",
    "    Args:\n",
    "        url (str): The URL of a nutritional value label image.\n",
    "\n",
    "    Returns:\n",
    "        dict: The receipt data. See the baml_src/idp.baml file for the structure of the nutritional value data.\n",
    "\n",
    "    Raises:\n",
    "        BamlValidationError: If the llm read of the image could not be parsed into the expected data model.\n",
    "    \"\"\"\n",
    "    img = Image.from_url(url)\n",
    "    output = b.ExtractNutritionLabelFromImage(img)\n",
    "    return output"
   ]
  },
  {
   "cell_type": "code",
   "execution_count": 6,
   "id": "79fbaa78-9f12-409c-8ebd-4e29778dbb2e",
   "metadata": {},
   "outputs": [
    {
     "ename": "AttributeError",
     "evalue": "'BamlSyncClient' object has no attribute 'ExtractNutritionLabelFromImage'",
     "output_type": "error",
     "traceback": [
      "\u001b[1;31m---------------------------------------------------------------------------\u001b[0m",
      "\u001b[1;31mAttributeError\u001b[0m                            Traceback (most recent call last)",
      "Cell \u001b[1;32mIn[6], line 2\u001b[0m\n\u001b[0;32m      1\u001b[0m url \u001b[38;5;241m=\u001b[39m \u001b[38;5;124m\"\u001b[39m\u001b[38;5;124mhttps://idp-baml-tutorial.s3.us-east-1.amazonaws.com/nutrition.jpg\u001b[39m\u001b[38;5;124m\"\u001b[39m\n\u001b[1;32m----> 2\u001b[0m nutrition \u001b[38;5;241m=\u001b[39m \u001b[43mextract_nutrition_from_url\u001b[49m\u001b[43m(\u001b[49m\u001b[43murl\u001b[49m\u001b[43m)\u001b[49m\n\u001b[0;32m      3\u001b[0m \u001b[38;5;28mprint\u001b[39m(\u001b[38;5;28mtype\u001b[39m(nutrition))\n\u001b[0;32m      4\u001b[0m nutrition\n",
      "Cell \u001b[1;32mIn[4], line 15\u001b[0m, in \u001b[0;36mextract_nutrition_from_url\u001b[1;34m(url)\u001b[0m\n\u001b[0;32m      2\u001b[0m \u001b[38;5;250m\u001b[39m\u001b[38;5;124;03m\"\"\"\u001b[39;00m\n\u001b[0;32m      3\u001b[0m \u001b[38;5;124;03mExtracts an image of a nutritional value label stored at a URL.\u001b[39;00m\n\u001b[0;32m      4\u001b[0m \n\u001b[1;32m   (...)\u001b[0m\n\u001b[0;32m     12\u001b[0m \u001b[38;5;124;03m    BamlValidationError: If the llm read of the image could not be parsed into the expected data model.\u001b[39;00m\n\u001b[0;32m     13\u001b[0m \u001b[38;5;124;03m\"\"\"\u001b[39;00m\n\u001b[0;32m     14\u001b[0m img \u001b[38;5;241m=\u001b[39m Image\u001b[38;5;241m.\u001b[39mfrom_url(url)\n\u001b[1;32m---> 15\u001b[0m output \u001b[38;5;241m=\u001b[39m \u001b[43mb\u001b[49m\u001b[38;5;241;43m.\u001b[39;49m\u001b[43mExtractNutritionLabelFromImage\u001b[49m(img)\n\u001b[0;32m     16\u001b[0m \u001b[38;5;28;01mreturn\u001b[39;00m output\n",
      "\u001b[1;31mAttributeError\u001b[0m: 'BamlSyncClient' object has no attribute 'ExtractNutritionLabelFromImage'"
     ]
    }
   ],
   "source": [
    "url = \"https://idp-baml-tutorial.s3.us-east-1.amazonaws.com/nutrition.jpg\"\n",
    "nutrition = extract_nutrition_from_url(url)\n",
    "print(type(nutrition))\n",
    "nutrition"
   ]
  },
  {
   "cell_type": "code",
   "execution_count": null,
   "id": "72509818-e723-482e-925f-85048909cacf",
   "metadata": {},
   "outputs": [],
   "source": []
  }
 ],
 "metadata": {
  "kernelspec": {
   "display_name": "Python 3 (ipykernel)",
   "language": "python",
   "name": "python3"
  },
  "language_info": {
   "codemirror_mode": {
    "name": "ipython",
    "version": 3
   },
   "file_extension": ".py",
   "mimetype": "text/x-python",
   "name": "python",
   "nbconvert_exporter": "python",
   "pygments_lexer": "ipython3",
   "version": "3.12.4"
  }
 },
 "nbformat": 4,
 "nbformat_minor": 5
}
