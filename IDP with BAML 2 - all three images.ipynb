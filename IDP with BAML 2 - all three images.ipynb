{
 "cells": [
  {
   "cell_type": "markdown",
   "id": "69e09a9e-30ed-4aeb-aa2a-f192050d92ad",
   "metadata": {},
   "source": [
    "# Intelligent Document Processing with BAML"
   ]
  },
  {
   "cell_type": "code",
   "execution_count": 1,
   "id": "cac94acd-9c11-4630-a7ef-772652813cfc",
   "metadata": {},
   "outputs": [],
   "source": [
    "%load_ext autoreload\n",
    "%autoreload 2"
   ]
  },
  {
   "cell_type": "code",
   "execution_count": 2,
   "id": "640eff2c-f021-4d4d-af60-99d15bf1d506",
   "metadata": {},
   "outputs": [],
   "source": [
    "from baml_py import Image\n",
    "from baml_client import b\n",
    "import pandas as pd"
   ]
  },
  {
   "cell_type": "markdown",
   "id": "1dcdd286-74ca-425f-a857-fdf14b741df7",
   "metadata": {},
   "source": [
    "## Appointment Card"
   ]
  },
  {
   "cell_type": "code",
   "execution_count": null,
   "id": "208d4062-8c0b-429b-aa78-12222d3a71f7",
   "metadata": {},
   "outputs": [],
   "source": [
    "def extract_appointment_from_url(url: str):\n",
    "    \"\"\"\n",
    "    Extracts an image of a receipt stored at a URL.\n",
    "\n",
    "    Args:\n",
    "        url (str): The URL of the receipt image.\n",
    "\n",
    "    Returns:\n",
    "        dict: The receipt data. See the baml_src/idp.baml file for the structure of the appointment data.\n",
    "\n",
    "    Raises:\n",
    "        BamlValidationError: If the llm read of the image could not be parsed into the expected data model.\n",
    "    \"\"\"\n",
    "    img = Image.from_url(url)\n",
    "    output = b.ExtractAppointmentFromImage(img)\n",
    "    return output"
   ]
  },
  {
   "cell_type": "code",
   "execution_count": null,
   "id": "9acd3632-3ad5-4f09-9a29-e52b85e00add",
   "metadata": {},
   "outputs": [],
   "source": [
    "url = \"https://idp-baml-tutorial.s3.us-east-1.amazonaws.com/appointment.jpg\"\n",
    "appointment = extract_appointment_from_url(url)\n",
    "print(type(appointment))\n",
    "appointment"
   ]
  },
  {
   "cell_type": "code",
   "execution_count": null,
   "id": "55609259-2c4f-4c8c-a2df-17662256fd78",
   "metadata": {
    "scrolled": true
   },
   "outputs": [],
   "source": [
    "# Convert object to a dictionary\n",
    "appointment_dict = appointment.__dict__\n",
    "\n",
    "# Create a DataFrame\n",
    "appointment_df = pd.DataFrame([appointment_dict])\n",
    "appointment_df"
   ]
  },
  {
   "cell_type": "markdown",
   "id": "2e2c3eef-ff5c-4f31-b093-4ac515b0269e",
   "metadata": {},
   "source": [
    "## Nutritional Value Label"
   ]
  },
  {
   "cell_type": "code",
   "execution_count": 3,
   "id": "0196e14f-4664-4c97-85a8-a7495b8dcbb8",
   "metadata": {},
   "outputs": [],
   "source": [
    "def extract_nutrition_from_url(url: str):\n",
    "    \"\"\"\n",
    "    Extracts an image of a nutritional value label stored at a URL.\n",
    "\n",
    "    Args:\n",
    "        url (str): The URL of a nutritional value label image.\n",
    "\n",
    "    Returns:\n",
    "        dict: The receipt data. See the baml_src/idp.baml file for the structure of the nutritional value data.\n",
    "\n",
    "    Raises:\n",
    "        BamlValidationError: If the llm read of the image could not be parsed into the expected data model.\n",
    "    \"\"\"\n",
    "    img = Image.from_url(url)\n",
    "    output = b.ExtractNutritionLabelFromImage(img)\n",
    "    return output"
   ]
  },
  {
   "cell_type": "code",
   "execution_count": 4,
   "id": "79fbaa78-9f12-409c-8ebd-4e29778dbb2e",
   "metadata": {},
   "outputs": [
    {
     "name": "stdout",
     "output_type": "stream",
     "text": [
      "<class 'baml_client.types.NutritionLabel'>\n"
     ]
    },
    {
     "data": {
      "text/plain": [
       "NutritionLabel(product='Maruchan Instant Lunch', description='Fast and tasty as a hot snack or delicious meal, anytime.', calories=290, fat=12, fat_ui='g', fat_dv=15.0, sodium=1150, sodium_ui='mg', sodium_dv=50.0, carb=39, carb_ui='g', carb_dv=14.0, protein=6, protein_ui='g', protein_dv=None)"
      ]
     },
     "execution_count": 4,
     "metadata": {},
     "output_type": "execute_result"
    }
   ],
   "source": [
    "url = \"https://idp-baml-tutorial.s3.us-east-1.amazonaws.com/nutrition.jpg\"\n",
    "nutrition = extract_nutrition_from_url(url)\n",
    "print(type(nutrition))\n",
    "nutrition"
   ]
  },
  {
   "cell_type": "markdown",
   "id": "a6de6daa-408e-4dd1-a283-794b689fa2b9",
   "metadata": {},
   "source": [
    "## Drop Off Package Receipt"
   ]
  },
  {
   "cell_type": "code",
   "execution_count": 5,
   "id": "241e4290-1826-456c-9f2b-672299ef372a",
   "metadata": {},
   "outputs": [],
   "source": [
    "def extract_package_from_url(url: str):\n",
    "    \"\"\"\n",
    "    Extracts an image of a nutritional value label stored at a URL.\n",
    "\n",
    "    Args:\n",
    "        url (str): The URL of a nutritional value label image.\n",
    "\n",
    "    Returns:\n",
    "        dict: The receipt data. See the baml_src/idp.baml file for the structure of the nutritional value data.\n",
    "\n",
    "    Raises:\n",
    "        BamlValidationError: If the llm read of the image could not be parsed into the expected data model.\n",
    "    \"\"\"\n",
    "    img = Image.from_url(url)\n",
    "    output = b.ExtractDropOffPackageReceiptFromImage(img)\n",
    "    return output"
   ]
  },
  {
   "cell_type": "code",
   "execution_count": 6,
   "id": "f9e603f2-d62e-42c7-b14a-d18828e2642d",
   "metadata": {},
   "outputs": [
    {
     "name": "stdout",
     "output_type": "stream",
     "text": [
      "<class 'baml_client.types.DropOffPackageReceipt'>\n"
     ]
    },
    {
     "data": {
      "text/plain": [
       "DropOffPackageReceipt(line_item=[ReceiptItem(tracking_number='DkXCPbL3RRMA', weight=1.13, weight_ui='lb')], location='The UPS Store #4458', address='10650 CULEBRA RD STE 104', day_of_week='Tue', day=31, month='Dec', year=2024, hour=11, minute=52, ampm='AM', total_packages=1, total_packages_ui='pkg')"
      ]
     },
     "execution_count": 6,
     "metadata": {},
     "output_type": "execute_result"
    }
   ],
   "source": [
    "url = \"https://idp-baml-tutorial.s3.us-east-1.amazonaws.com/package.jpg\"\n",
    "package = extract_package_from_url(url)\n",
    "print(type(package))\n",
    "package"
   ]
  },
  {
   "cell_type": "code",
   "execution_count": null,
   "id": "5ddf7a40-e7e4-4526-a1c8-eb982b17110b",
   "metadata": {},
   "outputs": [],
   "source": []
  }
 ],
 "metadata": {
  "kernelspec": {
   "display_name": "Python 3 (ipykernel)",
   "language": "python",
   "name": "python3"
  },
  "language_info": {
   "codemirror_mode": {
    "name": "ipython",
    "version": 3
   },
   "file_extension": ".py",
   "mimetype": "text/x-python",
   "name": "python",
   "nbconvert_exporter": "python",
   "pygments_lexer": "ipython3",
   "version": "3.12.4"
  }
 },
 "nbformat": 4,
 "nbformat_minor": 5
}
