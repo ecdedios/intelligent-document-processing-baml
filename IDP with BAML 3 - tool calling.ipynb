{
 "cells": [
  {
   "cell_type": "markdown",
   "id": "69e09a9e-30ed-4aeb-aa2a-f192050d92ad",
   "metadata": {},
   "source": [
    "# Intelligent Document Processing with BAML"
   ]
  },
  {
   "cell_type": "code",
   "execution_count": 1,
   "id": "cac94acd-9c11-4630-a7ef-772652813cfc",
   "metadata": {},
   "outputs": [],
   "source": [
    "%load_ext autoreload\n",
    "%autoreload 2"
   ]
  },
  {
   "cell_type": "code",
   "execution_count": 2,
   "id": "640eff2c-f021-4d4d-af60-99d15bf1d506",
   "metadata": {},
   "outputs": [],
   "source": [
    "from baml_py import Image\n",
    "from baml_client import b"
   ]
  },
  {
   "cell_type": "markdown",
   "id": "1dcdd286-74ca-425f-a857-fdf14b741df7",
   "metadata": {},
   "source": [
    "## Choose one tool out of many"
   ]
  },
  {
   "cell_type": "code",
   "execution_count": 3,
   "id": "208d4062-8c0b-429b-aa78-12222d3a71f7",
   "metadata": {},
   "outputs": [],
   "source": [
    "def extract_info_from_url(url: str):\n",
    "    \"\"\"\n",
    "    Extracts details from an image at a URL.\n",
    "\n",
    "    Args:\n",
    "        url (str): The URL of a nutritional value label image.\n",
    "\n",
    "    Returns:\n",
    "        dict: The receipt data. See the baml_src/idp.baml file for the structure of the nutritional value data.\n",
    "\n",
    "    Raises:\n",
    "        BamlValidationError: If the llm read of the image could not be parsed into the expected data model.\n",
    "    \"\"\"\n",
    "    img = Image.from_url(url)\n",
    "    output = b.ChooseATool(img)\n",
    "    return output"
   ]
  },
  {
   "cell_type": "code",
   "execution_count": 4,
   "id": "5ddf7a40-e7e4-4526-a1c8-eb982b17110b",
   "metadata": {},
   "outputs": [
    {
     "name": "stdout",
     "output_type": "stream",
     "text": [
      "<class 'baml_client.types.NutritionLabel'>\n"
     ]
    },
    {
     "data": {
      "text/plain": [
       "NutritionLabel(product='Maruchan Instant Lunch', description='Ramen noodle soup in a cup with various ingredients including dehydrated vegetables and soy sauce.', calories=290, fat=12, fat_ui='g', fat_dv=15.0, sodium=1150, sodium_ui='mg', sodium_dv=50.0, carb=39, carb_ui='g', carb_dv=14.0, protein=6, protein_ui='g', protein_dv=None)"
      ]
     },
     "execution_count": 4,
     "metadata": {},
     "output_type": "execute_result"
    }
   ],
   "source": [
    "url = \"https://idp-baml-tutorial.s3.us-east-1.amazonaws.com/nutrition.jpg\"\n",
    "result = extract_info_from_url(url)\n",
    "print(type(result))\n",
    "result"
   ]
  }
 ],
 "metadata": {
  "kernelspec": {
   "display_name": "Python 3 (ipykernel)",
   "language": "python",
   "name": "python3"
  },
  "language_info": {
   "codemirror_mode": {
    "name": "ipython",
    "version": 3
   },
   "file_extension": ".py",
   "mimetype": "text/x-python",
   "name": "python",
   "nbconvert_exporter": "python",
   "pygments_lexer": "ipython3",
   "version": "3.12.4"
  }
 },
 "nbformat": 4,
 "nbformat_minor": 5
}
