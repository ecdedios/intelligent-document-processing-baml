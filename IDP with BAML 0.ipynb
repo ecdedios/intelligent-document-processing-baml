{
 "cells": [
  {
   "cell_type": "code",
   "execution_count": 1,
   "id": "cac94acd-9c11-4630-a7ef-772652813cfc",
   "metadata": {},
   "outputs": [],
   "source": [
    "%load_ext autoreload\n",
    "%autoreload 2"
   ]
  },
  {
   "cell_type": "code",
   "execution_count": 3,
   "id": "640eff2c-f021-4d4d-af60-99d15bf1d506",
   "metadata": {},
   "outputs": [],
   "source": [
    "from baml_py import Image\n",
    "from baml_client import b\n",
    "import pandas as pd"
   ]
  },
  {
   "cell_type": "code",
   "execution_count": 4,
   "id": "208d4062-8c0b-429b-aa78-12222d3a71f7",
   "metadata": {},
   "outputs": [],
   "source": [
    "def extract_appointment_from_url(url: str):\n",
    "    \"\"\"\n",
    "    Extracts an image of a receipt stored at a URL.\n",
    "\n",
    "    Args:\n",
    "        url (str): The URL of the receipt image.\n",
    "\n",
    "    Returns:\n",
    "        dict: The receipt data. See the baml_src/idp.baml file for the structure of the appointment data.\n",
    "\n",
    "    Raises:\n",
    "        BamlValidationError: If the llm read of the image could not be parsed into the expected data model.\n",
    "    \"\"\"\n",
    "    img = Image.from_url(url)\n",
    "    output = b.ExtractAppointmentFromImage(img)\n",
    "    return output"
   ]
  },
  {
   "cell_type": "code",
   "execution_count": 5,
   "id": "9acd3632-3ad5-4f09-9a29-e52b85e00add",
   "metadata": {},
   "outputs": [
    {
     "ename": "AttributeError",
     "evalue": "'BamlSyncClient' object has no attribute 'ExtractAppointmentFromImage'",
     "output_type": "error",
     "traceback": [
      "\u001b[1;31m---------------------------------------------------------------------------\u001b[0m",
      "\u001b[1;31mAttributeError\u001b[0m                            Traceback (most recent call last)",
      "Cell \u001b[1;32mIn[5], line 2\u001b[0m\n\u001b[0;32m      1\u001b[0m url \u001b[38;5;241m=\u001b[39m \u001b[38;5;124m\"\u001b[39m\u001b[38;5;124mhttps://baml-testing-idp-image-to-json.s3.us-east-1.amazonaws.com/appointment.jpg\u001b[39m\u001b[38;5;124m\"\u001b[39m\n\u001b[1;32m----> 2\u001b[0m appointment \u001b[38;5;241m=\u001b[39m \u001b[43mextract_appointment_from_url\u001b[49m\u001b[43m(\u001b[49m\u001b[43murl\u001b[49m\u001b[43m)\u001b[49m\n\u001b[0;32m      3\u001b[0m \u001b[38;5;28mprint\u001b[39m(\u001b[38;5;28mtype\u001b[39m(appointment))\n\u001b[0;32m      4\u001b[0m appointment\n",
      "Cell \u001b[1;32mIn[4], line 15\u001b[0m, in \u001b[0;36mextract_appointment_from_url\u001b[1;34m(url)\u001b[0m\n\u001b[0;32m      2\u001b[0m \u001b[38;5;250m\u001b[39m\u001b[38;5;124;03m\"\"\"\u001b[39;00m\n\u001b[0;32m      3\u001b[0m \u001b[38;5;124;03mExtracts an image of a receipt stored at a URL.\u001b[39;00m\n\u001b[0;32m      4\u001b[0m \n\u001b[1;32m   (...)\u001b[0m\n\u001b[0;32m     12\u001b[0m \u001b[38;5;124;03m    BamlValidationError: If the llm read of the image could not be parsed into the expected data model.\u001b[39;00m\n\u001b[0;32m     13\u001b[0m \u001b[38;5;124;03m\"\"\"\u001b[39;00m\n\u001b[0;32m     14\u001b[0m img \u001b[38;5;241m=\u001b[39m Image\u001b[38;5;241m.\u001b[39mfrom_url(url)\n\u001b[1;32m---> 15\u001b[0m output \u001b[38;5;241m=\u001b[39m \u001b[43mb\u001b[49m\u001b[38;5;241;43m.\u001b[39;49m\u001b[43mExtractAppointmentFromImage\u001b[49m(img)\n\u001b[0;32m     16\u001b[0m \u001b[38;5;28;01mreturn\u001b[39;00m output\n",
      "\u001b[1;31mAttributeError\u001b[0m: 'BamlSyncClient' object has no attribute 'ExtractAppointmentFromImage'"
     ]
    }
   ],
   "source": [
    "url = \"https://baml-testing-idp-image-to-json.s3.us-east-1.amazonaws.com/appointment.jpg\"\n",
    "appointment = extract_appointment_from_url(url)\n",
    "print(type(appointment))\n",
    "appointment"
   ]
  },
  {
   "cell_type": "code",
   "execution_count": null,
   "id": "1ae2b490-0c5d-485b-95d1-7d674f6bf7ad",
   "metadata": {},
   "outputs": [],
   "source": []
  }
 ],
 "metadata": {
  "kernelspec": {
   "display_name": "Python 3 (ipykernel)",
   "language": "python",
   "name": "python3"
  },
  "language_info": {
   "codemirror_mode": {
    "name": "ipython",
    "version": 3
   },
   "file_extension": ".py",
   "mimetype": "text/x-python",
   "name": "python",
   "nbconvert_exporter": "python",
   "pygments_lexer": "ipython3",
   "version": "3.12.4"
  }
 },
 "nbformat": 4,
 "nbformat_minor": 5
}
